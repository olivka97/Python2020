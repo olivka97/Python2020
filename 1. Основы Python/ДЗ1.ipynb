{
 "cells": [
  {
   "cell_type": "markdown",
   "metadata": {},
   "source": [
    "**Задание 1**. Даны 2 строки: *long_phrase* и *short_phrase*. \n",
    "Напишите код, который проверяет действительно ли длинная фраза *long_phrase* длиннее короткой *short_phrase*. И выводит *True* или *False* в зависимости от результата сравнения."
   ]
  },
  {
   "cell_type": "code",
   "execution_count": 1,
   "metadata": {},
   "outputs": [],
   "source": [
    "long_phrase = 'Насколько проще было бы писать программы, если бы не заказчики '\n",
    "short_phrase = '640Кб должно хватить для любых задач. Билл Гейтс (по легенде)'"
   ]
  },
  {
   "cell_type": "code",
   "execution_count": 2,
   "metadata": {},
   "outputs": [
    {
     "data": {
      "text/plain": [
       "True"
      ]
     },
     "execution_count": 2,
     "metadata": {},
     "output_type": "execute_result"
    }
   ],
   "source": [
    "len(long_phrase)>len(short_phrase)"
   ]
  },
  {
   "cell_type": "markdown",
   "metadata": {},
   "source": [
    "**Задание 2**. Дано значение объема файла в байтах (*в мегабайте 2^20 байт*). Напишите перевод этого значения в мегабайты в формате: \"*Объем файла равен 213.68Mb*\"."
   ]
  },
  {
   "cell_type": "code",
   "execution_count": 1,
   "metadata": {},
   "outputs": [
    {
     "name": "stdout",
     "output_type": "stream",
     "text": [
      "Введите объем файла в байтах: 1000000000000000\n",
      "\"Объем файла равен  953674316.40625 Mb\"\n"
     ]
    }
   ],
   "source": [
    "size = int(input('Введите объем файла в байтах: '))\n",
    "print('\"Объем файла равен ',size/2**20,'Mb\"')"
   ]
  },
  {
   "cell_type": "markdown",
   "metadata": {},
   "source": [
    "**Задание 3**. Разработать приложение для определения знака зодиака по дате рождения. Пример:\n",
    "\n",
    "Введите месяц: март\n",
    "\n",
    "Введите число: 6\n",
    "\n",
    "Вывод:\n",
    "Рыбы"
   ]
  },
  {
   "cell_type": "code",
   "execution_count": 4,
   "metadata": {},
   "outputs": [
    {
     "name": "stdout",
     "output_type": "stream",
     "text": [
      "Введите месяц словом: январь\n",
      "Введите день: 23\n",
      "Знак зодиака:\n",
      "Водолей\n"
     ]
    }
   ],
   "source": [
    "month = input('Введите месяц словом: ')\n",
    "day = int(input('Введите день: '))\n",
    "print(\"Знак зодиака:\")\n",
    "if month == \"январь\":\n",
    "        if day < 21:\n",
    "            print('Козерог')\n",
    "        else:\n",
    "            print('Водолей')\n",
    "else: \n",
    "    if month == \"февраль\":\n",
    "        if day < 21:\n",
    "            print('Водолей')\n",
    "        else:\n",
    "            print('Рыбы')\n",
    "    else: \n",
    "        if month == \"март\":\n",
    "            if day < 21:\n",
    "                print('Рыбы')\n",
    "            else:\n",
    "                print('Овен')\n",
    "        else: \n",
    "            if month == \"апрель\":\n",
    "                if day < 21:\n",
    "                    print('Овен')\n",
    "                else:\n",
    "                    print('Телец')\n",
    "            else: \n",
    "                if month == \"май\":\n",
    "                    if day < 21:\n",
    "                        print('Телец')\n",
    "                    else:\n",
    "                        print('Близнецы')\n",
    "                else: \n",
    "                    if month == \"июнь\":\n",
    "                        if day < 22:\n",
    "                            print('Близнецы')\n",
    "                        else:\n",
    "                            print('Рак')\n",
    "                    else: \n",
    "                        if month == \"июль\":\n",
    "                            if day < 23:\n",
    "                                print('Рак')\n",
    "                            else:\n",
    "                                print('Лев')\n",
    "                        else: \n",
    "                            if month == \"август\":\n",
    "                                if day < 24:\n",
    "                                    print('Лев')\n",
    "                                else:\n",
    "                                    print('Дева')\n",
    "                            else: \n",
    "                                if month == \"сентябрь\":\n",
    "                                    if day < 24:\n",
    "                                        print('Дева')\n",
    "                                    else:\n",
    "                                        print('Весы')\n",
    "                                else: \n",
    "                                    if month == \"октябрь\":\n",
    "                                        if day < 24:\n",
    "                                            print('Весы')\n",
    "                                        else:\n",
    "                                            print('Скорпион')   \n",
    "                                    else: \n",
    "                                        if month == \"ноябрь\":\n",
    "                                            if day < 23:\n",
    "                                                print('Скорпион')\n",
    "                                            else:\n",
    "                                                print('Стрелец') \n",
    "                                        else: \n",
    "                                            if month == \"декабрь\":\n",
    "                                                if day < 22:\n",
    "                                                    print('Стрелец')\n",
    "                                                else:\n",
    "                                                    print('Козерог')"
   ]
  },
  {
   "cell_type": "markdown",
   "metadata": {},
   "source": [
    "**Задание 4**. Нужно разработать приложение для финансового планирования.\n",
    "Приложение учитывает сколько уходит на ипотеку, \"на жизнь\" и сколько нужно отложить на пенсию.\n",
    "Пользователь вводит:\n",
    "- заработанную плату в месяц.\n",
    "- сколько процентов от ЗП уходит на ипотеку.\n",
    "- сколько процентов от ЗП уходит \"на жизнь\".\n",
    "- сколько раз приходит премия в год.\n",
    "\n",
    "Остальная часть заработанной платы откладывается на пенсию.\n",
    "\n",
    "Также пользователю приходит премия в размере зарплаты, от которой половина уходит на отпуск, а вторая половина откладывается.\n",
    "\n",
    "Программа должна учитывать сколько премий было в год.\n",
    "\n",
    "Нужно вывести сколько денег тратит пользователь на ипотеку и сколько он накопит за год.\n",
    "\n",
    "Пример:\n",
    "\n",
    "Введите заработанную плату в месяц: 100000\n",
    "\n",
    "Введите сколько процентов уходит на ипотеку: 30\n",
    "\n",
    "Введите сколько процентов уходит на жизнь: 50\n",
    "\n",
    "Введите количество премий за год: 2\n",
    "\n",
    "Вывод:\n",
    "На ипотеку было потрачено: 360000 рублей\n",
    "Было накоплено: 340000 рублей"
   ]
  },
  {
   "cell_type": "code",
   "execution_count": null,
   "metadata": {},
   "outputs": [],
   "source": [
    "salary = int(input('Введите заработанную плату в месяц: '))\n",
    "persent_mortgage= int(input('Введите сколько процентов уходит на ипотеку: '))\n",
    "persent_livestyle = int(input('Введите сколько процентов уходит на жизнь: '))\n",
    "frequency_bonus = int(input('Введите количество премий за год: '))\n",
    "bonus = salary* frequency_bonus / 12\n",
    "savings = (salary* ((100 - persent_mortgage - persent_livestyle)/100)) + bonus/ 2\n",
    "print(\"На ипотеку было потрачено: \", salary*persent_mortgage*12, \" рублей. Было накоплено: \", savings*12, 'рублей.')\n"
   ]
  },
  {
   "cell_type": "code",
   "execution_count": null,
   "metadata": {},
   "outputs": [],
   "source": []
  }
 ],
 "metadata": {
  "kernelspec": {
   "display_name": "Python 3",
   "language": "python",
   "name": "python3"
  },
  "language_info": {
   "codemirror_mode": {
    "name": "ipython",
    "version": 3
   },
   "file_extension": ".py",
   "mimetype": "text/x-python",
   "name": "python",
   "nbconvert_exporter": "python",
   "pygments_lexer": "ipython3",
   "version": "3.7.6"
  }
 },
 "nbformat": 4,
 "nbformat_minor": 2
}
