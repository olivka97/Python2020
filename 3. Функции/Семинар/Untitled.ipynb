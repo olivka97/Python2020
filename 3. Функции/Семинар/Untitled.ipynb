{
 "cells": [
  {
   "cell_type": "code",
   "execution_count": null,
   "metadata": {},
   "outputs": [],
   "source": [
    "# d – delete – команда, которая спросит номер документа и удалит его из каталога и из перечня полок. \n",
    "# Предусмотрите сценарий, когда пользователь вводит несуществующий документ;\n",
    "documents = [\n",
    "    {'type': 'passport', 'number': '2207 876234', 'name': 'Василий Гупкин'},\n",
    "    {'type': 'invoice', 'number': '11-2', 'name': 'Геннадий Покемонов'},\n",
    "    {'type': 'insurance', 'number': '10006', 'name': 'Аристарх Павлов'}\n",
    "]\n",
    "\n",
    "directories = {\n",
    "    '1': ['2207 876234', '11-2'],\n",
    "    '2': ['10006'],\n",
    "    '3': []\n",
    "}\n",
    "\n",
    "#s – shelf – команда, которая спросит номер документа и выведет номер полки, на которой он находится\n",
    "def s():\n",
    "    if \"number_doc\" not in local():\n",
    "        #global number_doc #Нужно для последующих функций, которые обращаются к этой, при попытке использовать nonlocal выдает: no binding for nonlocal 'number_doc' found\n",
    "        number_doc = input('S Введите номер документа: ')\n",
    "    for document in directories:\n",
    "        if number_doc in directories[document]:\n",
    "            return document\n",
    "    return('Данного документа нет в базе данных, проверьте корректность введенных данных.')\n",
    "\n",
    "#d – delete – команда, которая спросит номер документа и удалит его из каталога и из перечня полок. \n",
    "def d():\n",
    "    import copy\n",
    "    if \"number_doc\" not in locals():\n",
    "        number_doc = input('Введите номер документа: ')\n",
    "    list_of_doc = []\n",
    "    for document in documents:\n",
    "        list_of_doc.append(document['number'])\n",
    "    if number_doc not in list_of_doc:\n",
    "        print:('Данного документа нет в базе данных, проверьте корректность введенных данных.')\n",
    "    else:\n",
    "        for document in documents:\n",
    "            if document['number'] == number_doc:\n",
    "                del(documents[documents.index(document)])\n",
    "                #print(f'Документ с номером {number_doc} удален из документов')\n",
    "        var = directories[s()] \n",
    "        shelf_ = copy.copy([s()])\n",
    "        for i, docum_ in enumerate(var):\n",
    "            del(var[i-1])\n",
    "        directories[s()] = var\n",
    "        print(f'Документ с номером {number_doc} удален c полки {shelf_}, на ней остались документы: {directories[s()]}')\n",
    "d()"
   ]
  },
  {
   "cell_type": "code",
   "execution_count": 3,
   "metadata": {},
   "outputs": [
    {
     "name": "stdout",
     "output_type": "stream",
     "text": [
      "Введите номер документа: 3\n",
      "33\n",
      "33\n"
     ]
    }
   ],
   "source": [
    "numb = input('Введите номер документа: ')\n",
    "\n",
    "def d(number):\n",
    "    a = number * 2\n",
    "    print(a)\n",
    "d(numb)\n",
    "d(numb)"
   ]
  },
  {
   "cell_type": "code",
   "execution_count": 5,
   "metadata": {},
   "outputs": [
    {
     "name": "stdout",
     "output_type": "stream",
     "text": [
      "{1: 1, 2: 4}\n"
     ]
    }
   ],
   "source": [
    "d = dict([(1, 1), (2, 4)])\n",
    "print(d)"
   ]
  },
  {
   "cell_type": "code",
   "execution_count": null,
   "metadata": {},
   "outputs": [],
   "source": []
  }
 ],
 "metadata": {
  "kernelspec": {
   "display_name": "Python 3",
   "language": "python",
   "name": "python3"
  }
 },
 "nbformat": 4,
 "nbformat_minor": 4
}
